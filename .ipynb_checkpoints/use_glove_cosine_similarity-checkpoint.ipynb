{
 "cells": [
  {
   "cell_type": "markdown",
   "metadata": {},
   "source": [
    "## Overview\n",
    "**Google's Universal Sentence Encoder (USE)** provides 512-dimension vectors for each input that are pre-trained on large corpus, and can be plugged into a variety of different task models, such as sentiment analysis, classification, and etc. It is speed-efficient without losing task accuracy, and also provides embeddings not just for word level, but also for phrases, sentences, and even paragraphs. However, the more the words are given as input, the more likely each word meaning gets diluted.\n",
    "\n",
    "This notebook is based on the Semantic Similarity with TF-Hub Universal Encoder tutorial, but uses a separate input from one of the projects. We will also use **GloVe** vectors to compare how the vectors and cosine similarity differ between the two models. \n",
    "\n",
    "- First, the notebook goes over setting up locally and use one sample data to create embeddings saved out as a separate csv file using Pandas.\n",
    "\n",
    "- Then assuming you have cloned the repository, we call in custom functions to quickly extract vectors of given word, phrase, sentences in USE and GloVe. \n",
    "\n",
    "### Table of Contents/Short-cuts: \n",
    "1. [About USE Models and Deep Average Network](#About-USE-Models-and-Deep-Average-Network)\n",
    "2. [Installation & Setup](#Installation-&-Setup)\n",
    "3. [Path Setup](#Path-Setup)\n",
    "4. [Raw Data Format](#Raw-Data-Format)\n",
    "5. [Get USE Embeddings](#Get-USE-Embeddings)\n",
    "6. [Cosine Similarity](#Cosine-Similarity)\n",
    "7. [Cosine Similarity Examples](#Cosine-Similarity-Example)\n",
    "8. [Plotting Similarity Matrix](#Plotting-Similarity-Matrix)"
   ]
  },
  {
   "cell_type": "markdown",
   "metadata": {},
   "source": [
    "### About USE Models and Deep Average Network\n",
    "There are two types of models in **USE**: **Transformer** and **Deep Averaging Network (DAN)**. We will use DAN which is a lighter version for efficiency and speed in exchange for reduced accuracy (still accurate enough). \n",
    "\n",
    "DAN first averages the input word embeddings to create a sentence embedding. It uses PTB tokenizer, which divides a sentence into a sequence of tokens based on set of rules on  how to process punctuation, articles, etc, in order to create 512 dimension embeddings. This averaged 512 vector is passed to one or more feedforward layers. Then it is multi-task-trained on unsupervised data drawn from various internet sources,  Wikipedia, Stanford Natural Language Inference corpus, web news, and forums. \n",
    "- Training  goals: \n",
    "    - Uses skip-thought-like model that predicts the surrounding sentences of a given text (see below)\n",
    "    - Conversational response suggestion \n",
    "    - Classification task on supervised data\n",
    "\n",
    "The intuition behind deep feedforward neural network is that each layer learns a more abstract representation of the input than the previous one. So its depth allows to capture subtle variations of the input with more depths. Also, each layer only involves a single matrix multiplication, allowing minimal computing time.\n",
    "\n",
    "See full USE paper: https://arxiv.org/pdf/1803.11175.pdf\n",
    "See full DAN paper: https://people.cs.umass.edu/~miyyer/pubs/2015_acl_dan.pdf\n",
    "\n",
    "----"
   ]
  },
  {
   "cell_type": "markdown",
   "metadata": {},
   "source": [
    "### Installation & Setup\n",
    "I used Anaconda to create a TensorFlow-specific environment to customize the package versions. After installing Anaconda...\n",
    "\n",
    "1. Creating a new environment:\n",
    "```\n",
    "conda create -n py3 python=3.6.8\n",
    "```\n",
    "2. Activate the created environment by `conda activate py3`\n",
    "\n",
    "3. Using pip, install packages for pandas, numpy, seaborn, tensorflow, tensorflow_hub. ie. `pip install pckge-name`\n",
    "\n",
    "4. Then, let's make sure to set the packages to exact version:\n",
    "```\n",
    "pip install --upgrade tensorflow=1.15.0\n",
    "pip install --upgrade tensorflow-hub=0.7.0\n",
    "```\n",
    "\n",
    "Once the steps are done, we should be able to run the codes locally.\n",
    "\n",
    "-----"
   ]
  },
  {
   "cell_type": "code",
   "execution_count": 1,
   "metadata": {},
   "outputs": [],
   "source": [
    "from absl import logging\n",
    "import tensorflow as tf\n",
    "import tensorflow_hub as hub\n",
    "import matplotlib.pyplot as plt\n",
    "import numpy as np\n",
    "import os\n",
    "import pandas as pd\n",
    "from glob import glob\n",
    "import re\n",
    "import seaborn as sns"
   ]
  },
  {
   "cell_type": "markdown",
   "metadata": {},
   "source": [
    "**Note:**\n",
    "due to some depecrated methods and changes made with the tf version upgrade from tf1.X to tf2.0, here we use a specific set of Python and tf versions. You can check via `pip freeze`\n",
    "\n",
    "- tested on python == 3.6.8 | tensorflow == 1.15.0 | tensorflow_hub == 0.7.0\n",
    "\n",
    "Or you can check the version in Python via:\n",
    "```python\n",
    "import sys\n",
    "print(sys.version_info)  # sys.version_info(major=3, minor=6, micro=8, releaselevel='final')\n",
    "print(tf.__version__)    # '1.15.0'\n",
    "print(hub.__version__)   # '0.7.0'\n",
    "```"
   ]
  },
  {
   "cell_type": "code",
   "execution_count": 2,
   "metadata": {},
   "outputs": [],
   "source": [
    "# script variables\n",
    "\n",
    "# for lite/DAN version:\n",
    "module_url = \"https://tfhub.dev/google/universal-sentence-encoder/2\"\n",
    "\n",
    "# for heavy/Transformer version:\n",
    "# module_url = \"https://tfhub.dev/google/universal-sentence-encoder-large/3\"\n",
    "\n",
    "baseDir = 'use-glove-narrative'  # repository/base folder name\n",
    "embedding_size = 512  # base 512-dimension embedding"
   ]
  },
  {
   "cell_type": "markdown",
   "metadata": {},
   "source": [
    "----\n",
    "\n",
    "### Path Setup\n",
    "Assuming that you git cloned the project (which is for demo purposes) to your local directory, we set the path so the code knows where to look for certain data files using the `baseDir` specified above. We will mainly just work within the cloned folder."
   ]
  },
  {
   "cell_type": "code",
   "execution_count": 3,
   "metadata": {},
   "outputs": [],
   "source": [
    "pwd = os.getcwd()\n",
    "# recursively find absolute path\n",
    "while os.path.basename(pwd) != baseDir:\n",
    "    os.chdir('..')\n",
    "    pwd = os.getcwd()\n",
    "baseDir = pwd\n",
    "dataDir = baseDir + '/data'\n",
    "\n",
    "# recursively find all csv files. We will work with one file here\n",
    "all_csvs = [y for x in os.walk(dataDir) for y in glob(os.path.join(x[0], '*.csv'))]\n",
    "all_csvs.sort()\n",
    "all_csvs = all_csvs[0]  # we will just use one sample data"
   ]
  },
  {
   "cell_type": "markdown",
   "metadata": {},
   "source": [
    "### Raw Data Format\n",
    "To briefly show the data, the data is comprised of numerous idea units, or phrases of words with unique meanings. Here, we are only interested in the 'text' column and 'index' column. We will call in the text of the entire story to create embeddings for each idea unit. Below the example print out, we will loop over each story to create embeddings. Since we will use one story this time, it shouldn't take that long. \n",
    "\n"
   ]
  },
  {
   "cell_type": "code",
   "execution_count": 6,
   "metadata": {},
   "outputs": [
    {
     "data": {
      "text/html": [
       "<div>\n",
       "<style scoped>\n",
       "    .dataframe tbody tr th:only-of-type {\n",
       "        vertical-align: middle;\n",
       "    }\n",
       "\n",
       "    .dataframe tbody tr th {\n",
       "        vertical-align: top;\n",
       "    }\n",
       "\n",
       "    .dataframe thead th {\n",
       "        text-align: right;\n",
       "    }\n",
       "</style>\n",
       "<table border=\"1\" class=\"dataframe\">\n",
       "  <thead>\n",
       "    <tr style=\"text-align: right;\">\n",
       "      <th></th>\n",
       "      <th>paragraph</th>\n",
       "      <th>index</th>\n",
       "      <th>text</th>\n",
       "      <th>scoring</th>\n",
       "    </tr>\n",
       "  </thead>\n",
       "  <tbody>\n",
       "    <tr>\n",
       "      <th>0</th>\n",
       "      <td>1</td>\n",
       "      <td>1</td>\n",
       "      <td>One fine day an old Maine man was fishing</td>\n",
       "      <td>mentions at least 3 of the following: “old”, “...</td>\n",
       "    </tr>\n",
       "    <tr>\n",
       "      <th>1</th>\n",
       "      <td>1</td>\n",
       "      <td>2</td>\n",
       "      <td>on his favorite lake</td>\n",
       "      <td>mentions “favorite lake” or “favorite river”</td>\n",
       "    </tr>\n",
       "    <tr>\n",
       "      <th>2</th>\n",
       "      <td>1</td>\n",
       "      <td>3</td>\n",
       "      <td>and catching very little.</td>\n",
       "      <td>mentions that he/the fisherman was not having ...</td>\n",
       "    </tr>\n",
       "    <tr>\n",
       "      <th>3</th>\n",
       "      <td>1</td>\n",
       "      <td>4</td>\n",
       "      <td>Finally, he gave up</td>\n",
       "      <td>mentions that he gave up/stopped fishing</td>\n",
       "    </tr>\n",
       "    <tr>\n",
       "      <th>4</th>\n",
       "      <td>1</td>\n",
       "      <td>5</td>\n",
       "      <td>and walked back along the shore to his fishing...</td>\n",
       "      <td>mentions that he walked home/to his fishing sh...</td>\n",
       "    </tr>\n",
       "  </tbody>\n",
       "</table>\n",
       "</div>"
      ],
      "text/plain": [
       "   paragraph  index                                               text  \\\n",
       "0          1      1         One fine day an old Maine man was fishing    \n",
       "1          1      2                              on his favorite lake    \n",
       "2          1      3                          and catching very little.   \n",
       "3          1      4                                Finally, he gave up   \n",
       "4          1      5  and walked back along the shore to his fishing...   \n",
       "\n",
       "                                             scoring  \n",
       "0  mentions at least 3 of the following: “old”, “...  \n",
       "1       mentions “favorite lake” or “favorite river”  \n",
       "2  mentions that he/the fisherman was not having ...  \n",
       "3           mentions that he gave up/stopped fishing  \n",
       "4  mentions that he walked home/to his fishing sh...  "
      ]
     },
     "execution_count": 6,
     "metadata": {},
     "output_type": "execute_result"
    }
   ],
   "source": [
    "# an example print of data format\n",
    "datafile = pd.read_csv(all_csvs)\n",
    "datafile.head()"
   ]
  },
  {
   "cell_type": "markdown",
   "metadata": {},
   "source": [
    "----\n",
    "## Get USE Embeddings"
   ]
  },
  {
   "cell_type": "code",
   "execution_count": 7,
   "metadata": {},
   "outputs": [],
   "source": [
    "# let's read in the data file\n",
    "textfile = pd.read_csv(all_csvs)\n",
    "# get the title of the narrative story, cutting out the .csv extension\n",
    "title = os.path.basename(all_csvs)[:-4]\n",
    "\n",
    "\n",
    "# create df to save out at the end\n",
    "vector_df_columns = ['paragraph', 'index', 'text', 'size']\n",
    "# create column for each dimension (out of 512)\n",
    "for i in range(1, embedding_size + 1):\n",
    "    vector_df_columns.append('dim' + str(i))\n",
    "vector_df = pd.DataFrame(columns=vector_df_columns)\n",
    "\n",
    "\n",
    "# import the Universal Sentence Encoder's TF Hub module\n",
    "embed = hub.Module(module_url)  # hub.load(module_url) for tf==2.0.0\n",
    "\n",
    "# we call in the text column from data file\n",
    "messages = []\n",
    "for t in range(0, len(textfile)):\n",
    "    messages.append(textfile.iloc[t]['text'])\n"
   ]
  },
  {
   "cell_type": "code",
   "execution_count": 9,
   "metadata": {},
   "outputs": [
    {
     "name": "stdout",
     "output_type": "stream",
     "text": [
      "INFO:tensorflow:Saver not created because there are no variables in the graph to restore\n"
     ]
    },
    {
     "name": "stderr",
     "output_type": "stream",
     "text": [
      "INFO:tensorflow:Saver not created because there are no variables in the graph to restore\n"
     ]
    },
    {
     "data": {
      "text/html": [
       "<div>\n",
       "<style scoped>\n",
       "    .dataframe tbody tr th:only-of-type {\n",
       "        vertical-align: middle;\n",
       "    }\n",
       "\n",
       "    .dataframe tbody tr th {\n",
       "        vertical-align: top;\n",
       "    }\n",
       "\n",
       "    .dataframe thead th {\n",
       "        text-align: right;\n",
       "    }\n",
       "</style>\n",
       "<table border=\"1\" class=\"dataframe\">\n",
       "  <thead>\n",
       "    <tr style=\"text-align: right;\">\n",
       "      <th></th>\n",
       "      <th>paragraph</th>\n",
       "      <th>index</th>\n",
       "      <th>text</th>\n",
       "      <th>size</th>\n",
       "      <th>dim1</th>\n",
       "      <th>dim2</th>\n",
       "      <th>dim3</th>\n",
       "      <th>dim4</th>\n",
       "      <th>dim5</th>\n",
       "      <th>dim6</th>\n",
       "      <th>...</th>\n",
       "      <th>dim503</th>\n",
       "      <th>dim504</th>\n",
       "      <th>dim505</th>\n",
       "      <th>dim506</th>\n",
       "      <th>dim507</th>\n",
       "      <th>dim508</th>\n",
       "      <th>dim509</th>\n",
       "      <th>dim510</th>\n",
       "      <th>dim511</th>\n",
       "      <th>dim512</th>\n",
       "    </tr>\n",
       "  </thead>\n",
       "  <tbody>\n",
       "    <tr>\n",
       "      <th>0</th>\n",
       "      <td>1</td>\n",
       "      <td>1</td>\n",
       "      <td>One fine day an old Maine man was fishing</td>\n",
       "      <td>512</td>\n",
       "      <td>0.0169429</td>\n",
       "      <td>-0.0030699</td>\n",
       "      <td>-0.0156278</td>\n",
       "      <td>-0.00649163</td>\n",
       "      <td>0.0213989</td>\n",
       "      <td>-0.0541645</td>\n",
       "      <td>...</td>\n",
       "      <td>0.0404136</td>\n",
       "      <td>-0.0577177</td>\n",
       "      <td>0.0108959</td>\n",
       "      <td>-0.0337963</td>\n",
       "      <td>0.0817816</td>\n",
       "      <td>-0.074783</td>\n",
       "      <td>0.0231454</td>\n",
       "      <td>0.0719041</td>\n",
       "      <td>-0.047105</td>\n",
       "      <td>0.0127639</td>\n",
       "    </tr>\n",
       "    <tr>\n",
       "      <th>1</th>\n",
       "      <td>1</td>\n",
       "      <td>2</td>\n",
       "      <td>on his favorite lake</td>\n",
       "      <td>512</td>\n",
       "      <td>-0.0172151</td>\n",
       "      <td>0.0418602</td>\n",
       "      <td>0.0105562</td>\n",
       "      <td>0.0290091</td>\n",
       "      <td>0.0351211</td>\n",
       "      <td>-0.0121579</td>\n",
       "      <td>...</td>\n",
       "      <td>0.0319399</td>\n",
       "      <td>-0.0201722</td>\n",
       "      <td>-0.00480706</td>\n",
       "      <td>-0.0490393</td>\n",
       "      <td>0.0562807</td>\n",
       "      <td>-0.0840528</td>\n",
       "      <td>0.0359073</td>\n",
       "      <td>0.0519214</td>\n",
       "      <td>0.0635523</td>\n",
       "      <td>-0.0615548</td>\n",
       "    </tr>\n",
       "    <tr>\n",
       "      <th>2</th>\n",
       "      <td>1</td>\n",
       "      <td>3</td>\n",
       "      <td>and catching very little.</td>\n",
       "      <td>512</td>\n",
       "      <td>0.0515628</td>\n",
       "      <td>0.00556853</td>\n",
       "      <td>-0.0606079</td>\n",
       "      <td>-0.0281095</td>\n",
       "      <td>-0.0631535</td>\n",
       "      <td>-0.0586548</td>\n",
       "      <td>...</td>\n",
       "      <td>-0.0266129</td>\n",
       "      <td>0.0111167</td>\n",
       "      <td>-0.0238963</td>\n",
       "      <td>0.00741908</td>\n",
       "      <td>-0.0685881</td>\n",
       "      <td>-0.0858848</td>\n",
       "      <td>0.066858</td>\n",
       "      <td>-0.0616563</td>\n",
       "      <td>-0.0844253</td>\n",
       "      <td>-0.026685</td>\n",
       "    </tr>\n",
       "    <tr>\n",
       "      <th>3</th>\n",
       "      <td>1</td>\n",
       "      <td>4</td>\n",
       "      <td>Finally, he gave up</td>\n",
       "      <td>512</td>\n",
       "      <td>0.0818241</td>\n",
       "      <td>0.00549721</td>\n",
       "      <td>-0.0245033</td>\n",
       "      <td>0.0286504</td>\n",
       "      <td>-0.0284165</td>\n",
       "      <td>-0.0575481</td>\n",
       "      <td>...</td>\n",
       "      <td>0.0474779</td>\n",
       "      <td>-0.00603216</td>\n",
       "      <td>-0.0116888</td>\n",
       "      <td>-0.06419</td>\n",
       "      <td>0.0268704</td>\n",
       "      <td>-0.0640136</td>\n",
       "      <td>0.103409</td>\n",
       "      <td>-0.0235997</td>\n",
       "      <td>-0.0781731</td>\n",
       "      <td>-0.0365196</td>\n",
       "    </tr>\n",
       "    <tr>\n",
       "      <th>4</th>\n",
       "      <td>1</td>\n",
       "      <td>5</td>\n",
       "      <td>and walked back along the shore to his fishing...</td>\n",
       "      <td>512</td>\n",
       "      <td>0.00286058</td>\n",
       "      <td>0.0576001</td>\n",
       "      <td>0.0103945</td>\n",
       "      <td>-0.00301533</td>\n",
       "      <td>0.0199591</td>\n",
       "      <td>-0.0644398</td>\n",
       "      <td>...</td>\n",
       "      <td>-0.0145959</td>\n",
       "      <td>0.0137776</td>\n",
       "      <td>0.0165417</td>\n",
       "      <td>-0.0406641</td>\n",
       "      <td>-0.0204453</td>\n",
       "      <td>-0.0713526</td>\n",
       "      <td>0.0121754</td>\n",
       "      <td>0.00591647</td>\n",
       "      <td>0.0262764</td>\n",
       "      <td>-0.0329477</td>\n",
       "    </tr>\n",
       "  </tbody>\n",
       "</table>\n",
       "<p>5 rows × 516 columns</p>\n",
       "</div>"
      ],
      "text/plain": [
       "  paragraph index                                               text size  \\\n",
       "0         1     1         One fine day an old Maine man was fishing   512   \n",
       "1         1     2                              on his favorite lake   512   \n",
       "2         1     3                          and catching very little.  512   \n",
       "3         1     4                                Finally, he gave up  512   \n",
       "4         1     5  and walked back along the shore to his fishing...  512   \n",
       "\n",
       "         dim1        dim2       dim3        dim4       dim5       dim6  ...  \\\n",
       "0   0.0169429  -0.0030699 -0.0156278 -0.00649163  0.0213989 -0.0541645  ...   \n",
       "1  -0.0172151   0.0418602  0.0105562   0.0290091  0.0351211 -0.0121579  ...   \n",
       "2   0.0515628  0.00556853 -0.0606079  -0.0281095 -0.0631535 -0.0586548  ...   \n",
       "3   0.0818241  0.00549721 -0.0245033   0.0286504 -0.0284165 -0.0575481  ...   \n",
       "4  0.00286058   0.0576001  0.0103945 -0.00301533  0.0199591 -0.0644398  ...   \n",
       "\n",
       "      dim503      dim504      dim505      dim506     dim507     dim508  \\\n",
       "0  0.0404136  -0.0577177   0.0108959  -0.0337963  0.0817816  -0.074783   \n",
       "1  0.0319399  -0.0201722 -0.00480706  -0.0490393  0.0562807 -0.0840528   \n",
       "2 -0.0266129   0.0111167  -0.0238963  0.00741908 -0.0685881 -0.0858848   \n",
       "3  0.0474779 -0.00603216  -0.0116888    -0.06419  0.0268704 -0.0640136   \n",
       "4 -0.0145959   0.0137776   0.0165417  -0.0406641 -0.0204453 -0.0713526   \n",
       "\n",
       "      dim509      dim510     dim511     dim512  \n",
       "0  0.0231454   0.0719041  -0.047105  0.0127639  \n",
       "1  0.0359073   0.0519214  0.0635523 -0.0615548  \n",
       "2   0.066858  -0.0616563 -0.0844253  -0.026685  \n",
       "3   0.103409  -0.0235997 -0.0781731 -0.0365196  \n",
       "4  0.0121754  0.00591647  0.0262764 -0.0329477  \n",
       "\n",
       "[5 rows x 516 columns]"
      ]
     },
     "execution_count": 9,
     "metadata": {},
     "output_type": "execute_result"
    }
   ],
   "source": [
    "# Reduce logging output.\n",
    "logging.set_verbosity(logging.ERROR)\n",
    "\n",
    "with tf.compat.v1.Session() as session:\n",
    "    session.run([tf.compat.v1.global_variables_initializer(), tf.compat.v1.tables_initializer()])\n",
    "    message_embeddings = session.run(embed(messages))\n",
    "\n",
    "# make sure all units are there/sanity check\n",
    "assert len(message_embeddings) == len(textfile) == len(messages)\n",
    "\n",
    "# loop over each vector value to corresponding text\n",
    "for e in range(0, len(message_embeddings)):\n",
    "    vector_df.at[e, 'paragraph'] = textfile.iloc[e]['paragraph']\n",
    "    vector_df.at[e, 'index'] = textfile.iloc[e]['index']\n",
    "    vector_df.at[e, 'text'] = messages[e]\n",
    "    vector_df.at[e, 'size'] = len(message_embeddings[e])\n",
    "    for dim in range(0, len(message_embeddings[e])):\n",
    "        vector_df.at[e, 'dim'+str(dim+1)] = message_embeddings[e][dim]\n",
    "\n",
    "# display sample format\n",
    "vector_df.head()\n"
   ]
  },
  {
   "cell_type": "code",
   "execution_count": 8,
   "metadata": {},
   "outputs": [
    {
     "name": "stdout",
     "output_type": "stream",
     "text": [
      "(0, 516)\n"
     ]
    }
   ],
   "source": [
    "print(np.shape(vector_df))"
   ]
  },
  {
   "cell_type": "markdown",
   "metadata": {},
   "source": [
    "The sample data shows each idea unit/text converted to 512 dimension vectors. `np.shape(vector_df)` will return a 41 total idea units/phrases to 516 columns (512 dimensions + custom columns (paragraph info, index, text, and size)). We then use these vectors to explore semantic similarity between text and phrases."
   ]
  },
  {
   "cell_type": "code",
   "execution_count": null,
   "metadata": {},
   "outputs": [],
   "source": [
    "# run the code below to save out as csv file\n",
    "vector_df.reindex(columns=vector_df_columns)\n",
    "vector_df.to_csv(title + '_vectors.csv', index=False)"
   ]
  },
  {
   "cell_type": "markdown",
   "metadata": {},
   "source": [
    "--------------\n",
    "## Cosine Similarity\n",
    "As a brief description, **cosine similarity** is basically the measure of cosine angle between the two vectors. Since we have USE and GloVe vectors that represent words into multidimensional vectors, we can apply these vector values to calculate how similar the two words are. \n",
    "\n",
    "It can be easily calculated in Python with its useful packages:\n",
    "```python\n",
    "cos_sim = numpy.dot(vector1, vector2)/(numpy.linalg.norm(vector1) * numpy.linalg.norm(vector2))\n",
    "```\n",
    "\n",
    "Assuming we established some basic understanding, let's call in the functions I made so that we can easily get USE and GloVe vectors at multiple word level. \n",
    "\n",
    "I will highlight some of the functions below:\n"
   ]
  },
  {
   "cell_type": "code",
   "execution_count": 25,
   "metadata": {},
   "outputs": [
    {
     "name": "stdout",
     "output_type": "stream",
     "text": [
      "Help on function glove_vec in module get_glove_use:\n",
      "\n",
      "glove_vec(item1, item2)\n",
      "    get vectors for given two words and calculate cosine similarity\n",
      "    \n",
      "    Parameters\n",
      "    ----------\n",
      "    item1 : str\n",
      "        string in glove word pool vector to compare\n",
      "    item2 : str\n",
      "        string in glove word pool vector to compare\n",
      "    \n",
      "    Returns\n",
      "    -------\n",
      "    item1_vector : array\n",
      "        item1 GloVe vector\n",
      "    item2_vector : array\n",
      "        item2 GloVe vector\n",
      "    cos_sim : float\n",
      "        cosine similarity of item1 and item2 vectors\n",
      "\n",
      "Help on function use_vec in module get_glove_use:\n",
      "\n",
      "use_vec(item1, item2)\n",
      "    get USE vectors and cosine similairty of the two items\n",
      "    \n",
      "    Parameters\n",
      "    ----------\n",
      "    item1 : str, list\n",
      "        any word to compare, put in string for more than one word\n",
      "    item2 : str, list\n",
      "        any word to compare, put in string for more than one word\n",
      "    \n",
      "    Returns\n",
      "    -------\n",
      "    item1_vector : array\n",
      "        item1 USE vector\n",
      "    item2_vector : array\n",
      "        item2 USE vector\n",
      "    cos_sim : float\n",
      "        cosine similarity of item1 and item2 vectors\n",
      "\n"
     ]
    }
   ],
   "source": [
    "from get_glove_use import *\n",
    "help(glove_vec)\n",
    "help(use_vec)"
   ]
  },
  {
   "cell_type": "markdown",
   "metadata": {},
   "source": [
    "### Cosine Similarity Example\n",
    "Using the two functions above, and another function compare_word_vec (which basically uses the two functions), we can easily obtain cosine similarity of two words."
   ]
  },
  {
   "cell_type": "code",
   "execution_count": 30,
   "metadata": {},
   "outputs": [
    {
     "name": "stdout",
     "output_type": "stream",
     "text": [
      "INFO:tensorflow:Saver not created because there are no variables in the graph to restore\n"
     ]
    },
    {
     "name": "stderr",
     "output_type": "stream",
     "text": [
      "INFO:tensorflow:Saver not created because there are no variables in the graph to restore\n"
     ]
    },
    {
     "name": "stdout",
     "output_type": "stream",
     "text": [
      "0.11964830574261577\n",
      "0.5305143\n"
     ]
    }
   ],
   "source": [
    "# using the two functions above, we can get \n",
    "# GloVe and USE vectors and cosine similarity of two input words\n",
    "os.chdir(gloveDir)\n",
    "_, _, glove_sim = glove_vec('fish','bear')\n",
    "_, _, use_sim = use_vec('fish','bear')\n",
    "print('use cos: ' + str(use_sim))\n",
    "print('glove cos: ' + str(glove_sim))"
   ]
  },
  {
   "cell_type": "code",
   "execution_count": 31,
   "metadata": {},
   "outputs": [
    {
     "name": "stdout",
     "output_type": "stream",
     "text": [
      "INFO:tensorflow:Saver not created because there are no variables in the graph to restore\n"
     ]
    },
    {
     "name": "stderr",
     "output_type": "stream",
     "text": [
      "INFO:tensorflow:Saver not created because there are no variables in the graph to restore\n"
     ]
    },
    {
     "name": "stdout",
     "output_type": "stream",
     "text": [
      "use cos: 0.49838725\n",
      "glove cos: 0.18601566881803455\n"
     ]
    }
   ],
   "source": [
    "# the two functions glove_vex and use_vec are use in compare_word_vec\n",
    "compare_word_vec('man','fish')"
   ]
  },
  {
   "cell_type": "markdown",
   "metadata": {},
   "source": [
    "**Note:** From the example above, USE and GloVe similarly identy _fish_ to be somewhat equally similar to _bear_ and _man_ (but just in different scale/degree). \n",
    "\n",
    "Now let's try comparing at multiple words or phrase level. We will use new functions and give in new inputs as strings. "
   ]
  },
  {
   "cell_type": "code",
   "execution_count": 37,
   "metadata": {},
   "outputs": [
    {
     "name": "stdout",
     "output_type": "stream",
     "text": [
      "old man caught fish & bear hunted trout:\n",
      "INFO:tensorflow:Saver not created because there are no variables in the graph to restore\n"
     ]
    },
    {
     "name": "stderr",
     "output_type": "stream",
     "text": [
      "INFO:tensorflow:Saver not created because there are no variables in the graph to restore\n"
     ]
    },
    {
     "name": "stdout",
     "output_type": "stream",
     "text": [
      "glove sim: 0.36609688461789297\n",
      "USE sim: 0.50494814\n",
      "old man caught fish & bear eat six fish:\n",
      "INFO:tensorflow:Saver not created because there are no variables in the graph to restore\n"
     ]
    },
    {
     "name": "stderr",
     "output_type": "stream",
     "text": [
      "INFO:tensorflow:Saver not created because there are no variables in the graph to restore\n"
     ]
    },
    {
     "name": "stdout",
     "output_type": "stream",
     "text": [
      "glove sim: 0.6818474640845398\n",
      "USE sim: 0.5896743\n",
      "bear hunted trout & bear eat six fish:\n",
      "INFO:tensorflow:Saver not created because there are no variables in the graph to restore\n"
     ]
    },
    {
     "name": "stderr",
     "output_type": "stream",
     "text": [
      "INFO:tensorflow:Saver not created because there are no variables in the graph to restore\n"
     ]
    },
    {
     "name": "stdout",
     "output_type": "stream",
     "text": [
      "glove sim: 0.6082457470353315\n",
      "USE sim: 0.72352856\n"
     ]
    }
   ],
   "source": [
    "sentence1 = ['old', 'man', 'caught', 'fish']\n",
    "sentence2 = ['bear', 'hunted', 'trout']\n",
    "sentence3 = ['bear','eat','six','fish']\n",
    "\n",
    "print('old man caught fish & bear hunted trout:')\n",
    "phrase_vec(sentence1, sentence2)\n",
    "\n",
    "print('old man caught fish & bear eat six fish:')\n",
    "phrase_vec(sentence1, sentence3)\n",
    "\n",
    "print('bear hunted trout & bear eat six fish:')\n",
    "phrase_vec(sentence2, sentence3)\n"
   ]
  },
  {
   "cell_type": "markdown",
   "metadata": {},
   "source": [
    "**Note:** From the example above, we can see that USE and GloVe capture somewhat differently. We can see that _bear hunted trout_ and _bear eat six fish_ are the most similar to each other, whereas _old man caught fish_ is also similar to the context of bear eating six fish. \n",
    "\n",
    "More detailed analysis is required, but the example above shows great possibilities to exploring semantics."
   ]
  },
  {
   "cell_type": "markdown",
   "metadata": {},
   "source": [
    "### Plotting Similarity Matrix\n",
    "Now that we can compare similarity of words and sentences, we can plot a simple pairwise matrix, which basically compares how similar each word is to another in the given list. Fortunately, we already have a plot for doing it (using Seaborn). \n",
    "\n",
    "I will only use few words as demonstration, since it's been slowing up my computer so much!"
   ]
  },
  {
   "cell_type": "code",
   "execution_count": 36,
   "metadata": {},
   "outputs": [
    {
     "name": "stdout",
     "output_type": "stream",
     "text": [
      "INFO:tensorflow:Saver not created because there are no variables in the graph to restore\n"
     ]
    },
    {
     "name": "stderr",
     "output_type": "stream",
     "text": [
      "INFO:tensorflow:Saver not created because there are no variables in the graph to restore\n"
     ]
    },
    {
     "data": {
      "image/png": "[encoded data removed]",
      "text/plain": [
       "<Figure size 432x288 with 2 Axes>"
      ]
     },
     "metadata": {},
     "output_type": "display_data"
    }
   ],
   "source": [
    "plot_sim_matrix(['man', 'bear', 'fish', 'trout'])"
   ]
  },
  {
   "cell_type": "markdown",
   "metadata": {},
   "source": [
    "## Ending Note\n",
    "\n",
    "In the example above, we only used simple noun words. The stronger blue color, the more similar the two words are. Thus, the diagonal strip is deep blue (similarity of same two words is 1). You can see _fish_ and _trout_ are more similar to each other, than is _man_ to _trout_.\n",
    "\n",
    "Keep in mind that you can feed in more words and sentences to create and visualize a larger matrix. \n",
    "\n",
    "We looked at setting up USE locally, and creating embeddings from USE. The cloned project also has sample version of GloVe vectors. We use the vectors from the two models to extract vectors and compare similarity of two texts. "
   ]
  }
 ],
 "metadata": {
  "kernelspec": {
   "display_name": "Python 3",
   "language": "python",
   "name": "python3"
  },
  "language_info": {
   "codemirror_mode": {
    "name": "ipython",
    "version": 3
   },
   "file_extension": ".py",
   "mimetype": "text/x-python",
   "name": "python",
   "nbconvert_exporter": "python",
   "pygments_lexer": "ipython3",
   "version": "3.6.8"
  }
 },
 "nbformat": 4,
 "nbformat_minor": 2
}
